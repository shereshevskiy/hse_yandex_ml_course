{
 "cells": [
  {
   "cell_type": "markdown",
   "metadata": {},
   "source": [
    "# Задание по программированию: Составление фондового индекса"
   ]
  },
  {
   "cell_type": "markdown",
   "metadata": {},
   "source": [
    "## Вы научитесь:\n",
    "- работать с методом главных компонент\n",
    "- использовать его для вычисления улучшенного индекса Доу-Джонса\n",
    "\n",
    "## Введение\n",
    "Метод главных компонент (`principal component analysis, PCA`) — это один из методов обучения **без учителя**, который позволяет сформировать **новые признаки**, являющиеся линейными комбинациями старых. При этом новые признаки строятся так, чтобы сохранить как можно больше дисперсии в данных. Иными словами, метод главных компонент понижает размерность данных оптимальным с точки зрения сохранения дисперсии способом.\n",
    "\n",
    "Основным параметром метода главных компонент является **количество новых признаков**. Как и в большинстве методов машинного обучения, нет четких рекомендаций по поводу выбора значения этого параметров. Один из подходов — выбирать минимальное число компонент, при котором объясняется не менее определенной доли дисперсии (это означает, что в выборке сохраняется данная доля от исходной дисперсии).\n",
    "\n",
    "В этом задании понадобится измерять схожесть двух наборов величин. Если имеется набор пар измерений (например, одна пара — предсказания двух классификаторов для одного и того же объекта), то охарактеризовать их зависимость друг от друга можно с помощью корреляции Пирсона. Она принимает значения от -1 до 1 и показывает, насколько данные величины линейно зависимы. Если корреляция равна -1 или 1, то величины линейно выражаются друг через друга. Если она равна нулю, то линейная зависимость между величинами отсутствует.\n",
    "\n",
    "## Данные\n",
    "В этом задании мы будем работать с данными о стоимостях акций 30 крупнейших компаний США. На основе этих данных можно оценить состояние экономики, например, с помощью индекса Доу-Джонса. Со временем состав компаний, по которым строится индекс, меняется. Для набора данных был взят период с 23.09.2013 по 18.03.2015, в котором набор компаний был фиксирован (подробнее почитать о составе можно по ссылке из материалов).\n",
    "\n",
    "Одним из существенных недостатков индекса Доу-Джонса является способ его вычисления — при подсчёте индекса цены входящих в него акций складываются, а потом делятся на поправочный коэффициент. В результате, даже если одна компания заметно меньше по капитализации, чем другая, но стоимость одной её акции выше, то она сильнее влияет на индекс. Даже большое процентное изменение цены относительно дешёвой акции может быть нивелировано незначительным в процентном отношении изменением цены более дорогой акции.\n",
    "\n",
    "## Реализация в sklearn\n",
    "Метод главных компонент реализован в пакете `scikit-learn` в модуле `decomposition` в классе <a href=\"http://scikit-learn.org/stable/modules/generated/sklearn.decomposition.PCA.html\">PCA</a>. Основным параметром является количество компонент (`n_components`). Для обученного преобразования этот класс позволяет вычислять различные характеристики. Например, поле `explained_variance_ratio_` содержит процент дисперсии, который объясняет каждая компонента. Поле `components_` содержит информацию о том, какой вклад вносят признаки в компоненты. Чтобы применить обученное преобразование к данным, можно воспользоваться методом `transform`.\n",
    "\n",
    "Для нахождения коэффициента корреляции Пирсона можно воспользоваться функцией `corrcoef` из пакета numpy.\n",
    "\n",
    "## Материалы\n",
    "- <a href='https://en.wikipedia.org/wiki/Dow_Jones_Industrial_Average'>Dow Jones Industrial Average</a>\n",
    "- <a href='https://en.wikipedia.org/wiki/Historical_components_of_the_Dow_Jones_Industrial_Average'>История состава компаний, входящих в индекс Dow Jones</a>"
   ]
  },
  {
   "cell_type": "markdown",
   "metadata": {},
   "source": [
    "## Инструкция по выполнению\n",
    "1. Загрузите данные close_prices.csv. В этом файле приведены цены акций 30 компаний на закрытии торгов за каждый день периода.\n",
    "2. На загруженных данных обучите преобразование PCA с числом компоненты равным 10. Скольких компонент хватит, чтобы объяснить 90% дисперсии?\n",
    "3. Примените построенное преобразование к исходным данным и возьмите значения первой компоненты.\n",
    "4. Загрузите информацию об индексе Доу-Джонса из файла djia_index.csv. Чему равна корреляция Пирсона между первой компонентой и индексом Доу-Джонса?\n",
    "5. Какая компания имеет наибольший вес в первой компоненте? Укажите ее название с большой буквы.\n",
    "\n",
    "Если ответом является нецелое число, то целую и дробную часть необходимо разграничивать точкой, например, 0.42. При необходимости округляйте дробную часть до **двух** знаков."
   ]
  },
  {
   "cell_type": "code",
   "execution_count": 10,
   "metadata": {
    "collapsed": true
   },
   "outputs": [],
   "source": [
    "import pandas as pd\n",
    "import numpy as np\n",
    "from sklearn.decomposition import PCA"
   ]
  },
  {
   "cell_type": "code",
   "execution_count": 16,
   "metadata": {
    "collapsed": true
   },
   "outputs": [],
   "source": [
    "# функция для записи ответов\n",
    "def write_answer(name, answer):\n",
    "    with open('data/' + name + '.txt', 'w') as file:\n",
    "        file.write(str(answer))"
   ]
  },
  {
   "cell_type": "markdown",
   "metadata": {},
   "source": [
    "**Загрузите данные close_prices.csv. В этом файле приведены цены акций 30 компаний на закрытии торгов за каждый день периода.**"
   ]
  },
  {
   "cell_type": "code",
   "execution_count": 7,
   "metadata": {
    "collapsed": true
   },
   "outputs": [],
   "source": [
    "prices = pd.read_csv('data/close_prices.csv', index_col=0, parse_dates=True)"
   ]
  },
  {
   "cell_type": "code",
   "execution_count": 8,
   "metadata": {},
   "outputs": [
    {
     "data": {
      "text/html": [
       "<div>\n",
       "<style>\n",
       "    .dataframe thead tr:only-child th {\n",
       "        text-align: right;\n",
       "    }\n",
       "\n",
       "    .dataframe thead th {\n",
       "        text-align: left;\n",
       "    }\n",
       "\n",
       "    .dataframe tbody tr th {\n",
       "        vertical-align: top;\n",
       "    }\n",
       "</style>\n",
       "<table border=\"1\" class=\"dataframe\">\n",
       "  <thead>\n",
       "    <tr style=\"text-align: right;\">\n",
       "      <th></th>\n",
       "      <th>AXP</th>\n",
       "      <th>BA</th>\n",
       "      <th>CAT</th>\n",
       "      <th>CSCO</th>\n",
       "      <th>CVX</th>\n",
       "      <th>DD</th>\n",
       "      <th>DIS</th>\n",
       "      <th>GE</th>\n",
       "      <th>GS</th>\n",
       "      <th>HD</th>\n",
       "      <th>...</th>\n",
       "      <th>PFE</th>\n",
       "      <th>PG</th>\n",
       "      <th>T</th>\n",
       "      <th>TRV</th>\n",
       "      <th>UNH</th>\n",
       "      <th>UTX</th>\n",
       "      <th>V</th>\n",
       "      <th>VZ</th>\n",
       "      <th>WMT</th>\n",
       "      <th>XOM</th>\n",
       "    </tr>\n",
       "    <tr>\n",
       "      <th>date</th>\n",
       "      <th></th>\n",
       "      <th></th>\n",
       "      <th></th>\n",
       "      <th></th>\n",
       "      <th></th>\n",
       "      <th></th>\n",
       "      <th></th>\n",
       "      <th></th>\n",
       "      <th></th>\n",
       "      <th></th>\n",
       "      <th></th>\n",
       "      <th></th>\n",
       "      <th></th>\n",
       "      <th></th>\n",
       "      <th></th>\n",
       "      <th></th>\n",
       "      <th></th>\n",
       "      <th></th>\n",
       "      <th></th>\n",
       "      <th></th>\n",
       "      <th></th>\n",
       "    </tr>\n",
       "  </thead>\n",
       "  <tbody>\n",
       "    <tr>\n",
       "      <th>2013-09-23</th>\n",
       "      <td>76.440002</td>\n",
       "      <td>117.510002</td>\n",
       "      <td>85.029999</td>\n",
       "      <td>24.270000</td>\n",
       "      <td>125.519997</td>\n",
       "      <td>59.409999</td>\n",
       "      <td>64.750000</td>\n",
       "      <td>24.280001</td>\n",
       "      <td>165.250000</td>\n",
       "      <td>75.910004</td>\n",
       "      <td>...</td>\n",
       "      <td>28.799999</td>\n",
       "      <td>79.279999</td>\n",
       "      <td>34.220001</td>\n",
       "      <td>86.379997</td>\n",
       "      <td>71.820000</td>\n",
       "      <td>109.419998</td>\n",
       "      <td>196.240005</td>\n",
       "      <td>47.980000</td>\n",
       "      <td>76.419998</td>\n",
       "      <td>87.750000</td>\n",
       "    </tr>\n",
       "    <tr>\n",
       "      <th>2013-09-24</th>\n",
       "      <td>76.070000</td>\n",
       "      <td>119.000000</td>\n",
       "      <td>85.110001</td>\n",
       "      <td>24.139999</td>\n",
       "      <td>124.489998</td>\n",
       "      <td>59.319997</td>\n",
       "      <td>64.320000</td>\n",
       "      <td>24.320000</td>\n",
       "      <td>162.970001</td>\n",
       "      <td>76.040001</td>\n",
       "      <td>...</td>\n",
       "      <td>28.709999</td>\n",
       "      <td>78.620003</td>\n",
       "      <td>34.090000</td>\n",
       "      <td>85.870003</td>\n",
       "      <td>72.320000</td>\n",
       "      <td>110.000000</td>\n",
       "      <td>193.339996</td>\n",
       "      <td>47.270000</td>\n",
       "      <td>75.750000</td>\n",
       "      <td>87.360001</td>\n",
       "    </tr>\n",
       "    <tr>\n",
       "      <th>2013-09-25</th>\n",
       "      <td>75.989998</td>\n",
       "      <td>118.510002</td>\n",
       "      <td>84.500000</td>\n",
       "      <td>24.430000</td>\n",
       "      <td>124.070000</td>\n",
       "      <td>59.319997</td>\n",
       "      <td>64.449997</td>\n",
       "      <td>24.230000</td>\n",
       "      <td>162.309998</td>\n",
       "      <td>75.519997</td>\n",
       "      <td>...</td>\n",
       "      <td>28.490000</td>\n",
       "      <td>77.720001</td>\n",
       "      <td>34.049999</td>\n",
       "      <td>85.980003</td>\n",
       "      <td>71.980003</td>\n",
       "      <td>109.260002</td>\n",
       "      <td>191.559998</td>\n",
       "      <td>46.950001</td>\n",
       "      <td>74.650002</td>\n",
       "      <td>87.139999</td>\n",
       "    </tr>\n",
       "    <tr>\n",
       "      <th>2013-09-26</th>\n",
       "      <td>76.320000</td>\n",
       "      <td>119.379997</td>\n",
       "      <td>84.199997</td>\n",
       "      <td>23.770000</td>\n",
       "      <td>123.489998</td>\n",
       "      <td>59.509996</td>\n",
       "      <td>65.239998</td>\n",
       "      <td>24.250000</td>\n",
       "      <td>162.289993</td>\n",
       "      <td>76.070000</td>\n",
       "      <td>...</td>\n",
       "      <td>28.520000</td>\n",
       "      <td>78.050003</td>\n",
       "      <td>34.230000</td>\n",
       "      <td>85.830002</td>\n",
       "      <td>72.160004</td>\n",
       "      <td>109.660004</td>\n",
       "      <td>193.559998</td>\n",
       "      <td>47.669998</td>\n",
       "      <td>74.620003</td>\n",
       "      <td>87.070000</td>\n",
       "    </tr>\n",
       "    <tr>\n",
       "      <th>2013-09-27</th>\n",
       "      <td>75.889999</td>\n",
       "      <td>118.739998</td>\n",
       "      <td>83.800003</td>\n",
       "      <td>23.330000</td>\n",
       "      <td>122.639999</td>\n",
       "      <td>59.009995</td>\n",
       "      <td>65.190002</td>\n",
       "      <td>24.049999</td>\n",
       "      <td>159.850006</td>\n",
       "      <td>75.959999</td>\n",
       "      <td>...</td>\n",
       "      <td>28.879999</td>\n",
       "      <td>77.209999</td>\n",
       "      <td>33.980000</td>\n",
       "      <td>85.410004</td>\n",
       "      <td>71.989998</td>\n",
       "      <td>109.360001</td>\n",
       "      <td>193.050003</td>\n",
       "      <td>47.000000</td>\n",
       "      <td>74.360001</td>\n",
       "      <td>86.900002</td>\n",
       "    </tr>\n",
       "  </tbody>\n",
       "</table>\n",
       "<p>5 rows × 30 columns</p>\n",
       "</div>"
      ],
      "text/plain": [
       "                  AXP          BA        CAT       CSCO         CVX  \\\n",
       "date                                                                  \n",
       "2013-09-23  76.440002  117.510002  85.029999  24.270000  125.519997   \n",
       "2013-09-24  76.070000  119.000000  85.110001  24.139999  124.489998   \n",
       "2013-09-25  75.989998  118.510002  84.500000  24.430000  124.070000   \n",
       "2013-09-26  76.320000  119.379997  84.199997  23.770000  123.489998   \n",
       "2013-09-27  75.889999  118.739998  83.800003  23.330000  122.639999   \n",
       "\n",
       "                   DD        DIS         GE          GS         HD    ...      \\\n",
       "date                                                                  ...       \n",
       "2013-09-23  59.409999  64.750000  24.280001  165.250000  75.910004    ...       \n",
       "2013-09-24  59.319997  64.320000  24.320000  162.970001  76.040001    ...       \n",
       "2013-09-25  59.319997  64.449997  24.230000  162.309998  75.519997    ...       \n",
       "2013-09-26  59.509996  65.239998  24.250000  162.289993  76.070000    ...       \n",
       "2013-09-27  59.009995  65.190002  24.049999  159.850006  75.959999    ...       \n",
       "\n",
       "                  PFE         PG          T        TRV        UNH         UTX  \\\n",
       "date                                                                            \n",
       "2013-09-23  28.799999  79.279999  34.220001  86.379997  71.820000  109.419998   \n",
       "2013-09-24  28.709999  78.620003  34.090000  85.870003  72.320000  110.000000   \n",
       "2013-09-25  28.490000  77.720001  34.049999  85.980003  71.980003  109.260002   \n",
       "2013-09-26  28.520000  78.050003  34.230000  85.830002  72.160004  109.660004   \n",
       "2013-09-27  28.879999  77.209999  33.980000  85.410004  71.989998  109.360001   \n",
       "\n",
       "                     V         VZ        WMT        XOM  \n",
       "date                                                     \n",
       "2013-09-23  196.240005  47.980000  76.419998  87.750000  \n",
       "2013-09-24  193.339996  47.270000  75.750000  87.360001  \n",
       "2013-09-25  191.559998  46.950001  74.650002  87.139999  \n",
       "2013-09-26  193.559998  47.669998  74.620003  87.070000  \n",
       "2013-09-27  193.050003  47.000000  74.360001  86.900002  \n",
       "\n",
       "[5 rows x 30 columns]"
      ]
     },
     "execution_count": 8,
     "metadata": {},
     "output_type": "execute_result"
    }
   ],
   "source": [
    "prices.head()"
   ]
  },
  {
   "cell_type": "code",
   "execution_count": 9,
   "metadata": {},
   "outputs": [
    {
     "name": "stdout",
     "output_type": "stream",
     "text": [
      "<class 'pandas.core.frame.DataFrame'>\n",
      "DatetimeIndex: 374 entries, 2013-09-23 to 2015-03-18\n",
      "Data columns (total 30 columns):\n",
      "AXP     374 non-null float64\n",
      "BA      374 non-null float64\n",
      "CAT     374 non-null float64\n",
      "CSCO    374 non-null float64\n",
      "CVX     374 non-null float64\n",
      "DD      374 non-null float64\n",
      "DIS     374 non-null float64\n",
      "GE      374 non-null float64\n",
      "GS      374 non-null float64\n",
      "HD      374 non-null float64\n",
      "IBM     374 non-null float64\n",
      "INTC    374 non-null float64\n",
      "JNJ     374 non-null float64\n",
      "JPM     374 non-null float64\n",
      "KO      374 non-null float64\n",
      "MCD     374 non-null float64\n",
      "MMM     374 non-null float64\n",
      "MRK     374 non-null float64\n",
      "MSFT    374 non-null float64\n",
      "NKE     374 non-null float64\n",
      "PFE     374 non-null float64\n",
      "PG      374 non-null float64\n",
      "T       374 non-null float64\n",
      "TRV     374 non-null float64\n",
      "UNH     374 non-null float64\n",
      "UTX     374 non-null float64\n",
      "V       374 non-null float64\n",
      "VZ      374 non-null float64\n",
      "WMT     374 non-null float64\n",
      "XOM     374 non-null float64\n",
      "dtypes: float64(30)\n",
      "memory usage: 90.6 KB\n"
     ]
    }
   ],
   "source": [
    "prices.info()"
   ]
  },
  {
   "cell_type": "markdown",
   "metadata": {},
   "source": [
    "**На загруженных данных обучите преобразование PCA с числом компоненты равным 10. Скольких компонент хватит, чтобы объяснить 90% дисперсии?**"
   ]
  },
  {
   "cell_type": "code",
   "execution_count": 20,
   "metadata": {},
   "outputs": [
    {
     "data": {
      "text/plain": [
       "PCA(copy=True, iterated_power='auto', n_components=0.9, random_state=None,\n",
       "  svd_solver='auto', tol=0.0, whiten=False)"
      ]
     },
     "execution_count": 20,
     "metadata": {},
     "output_type": "execute_result"
    }
   ],
   "source": [
    "pca = PCA(n_components=0.9)\n",
    "pca.fit(prices)"
   ]
  },
  {
   "cell_type": "code",
   "execution_count": 21,
   "metadata": {},
   "outputs": [
    {
     "data": {
      "text/plain": [
       "4"
      ]
     },
     "execution_count": 21,
     "metadata": {},
     "output_type": "execute_result"
    }
   ],
   "source": [
    "pca.n_components_"
   ]
  },
  {
   "cell_type": "code",
   "execution_count": 22,
   "metadata": {
    "collapsed": true
   },
   "outputs": [],
   "source": [
    "write_answer('pca_answer1', pca.n_components_)"
   ]
  },
  {
   "cell_type": "code",
   "execution_count": 23,
   "metadata": {},
   "outputs": [
    {
     "data": {
      "text/plain": [
       "PCA(copy=True, iterated_power='auto', n_components=10, random_state=None,\n",
       "  svd_solver='auto', tol=0.0, whiten=False)"
      ]
     },
     "execution_count": 23,
     "metadata": {},
     "output_type": "execute_result"
    }
   ],
   "source": [
    "pca = PCA(n_components=10)\n",
    "pca.fit(prices)"
   ]
  },
  {
   "cell_type": "code",
   "execution_count": 26,
   "metadata": {},
   "outputs": [
    {
     "data": {
      "text/plain": [
       "array([ 0.73897118,  0.11007169,  0.04995088,  0.0287492 ,  0.02215448,\n",
       "        0.01931577,  0.00674853,  0.00614091,  0.00320594,  0.00305611])"
      ]
     },
     "execution_count": 26,
     "metadata": {},
     "output_type": "execute_result"
    }
   ],
   "source": [
    "pca.explained_variance_ratio_"
   ]
  },
  {
   "cell_type": "markdown",
   "metadata": {},
   "source": [
    "другой вариант определить число компонент, обьясняющих 90% дисперсии (более длинный, но по сути):"
   ]
  },
  {
   "cell_type": "code",
   "execution_count": 27,
   "metadata": {},
   "outputs": [
    {
     "data": {
      "text/plain": [
       "4"
      ]
     },
     "execution_count": 27,
     "metadata": {},
     "output_type": "execute_result"
    }
   ],
   "source": [
    "percent = 0\n",
    "for n, perc in enumerate(pca.explained_variance_ratio_):\n",
    "    percent += perc\n",
    "    if percent >= 0.9:\n",
    "        break\n",
    "n_90 = n + 1\n",
    "n_90"
   ]
  },
  {
   "cell_type": "markdown",
   "metadata": {},
   "source": [
    "**Примените построенное преобразование к исходным данным и возьмите значения первой компоненты.**"
   ]
  },
  {
   "cell_type": "code",
   "execution_count": 29,
   "metadata": {},
   "outputs": [],
   "source": [
    "X_transform = pca.transform(prices)"
   ]
  },
  {
   "cell_type": "code",
   "execution_count": 32,
   "metadata": {
    "scrolled": true
   },
   "outputs": [
    {
     "data": {
      "text/plain": [
       "(374,)"
      ]
     },
     "execution_count": 32,
     "metadata": {},
     "output_type": "execute_result"
    }
   ],
   "source": [
    "X_transform[:, 0].shape"
   ]
  },
  {
   "cell_type": "markdown",
   "metadata": {},
   "source": [
    "**Загрузите информацию об индексе Доу-Джонса из файла djia_index.csv. Чему равна корреляция Пирсона между первой компонентой и индексом Доу-Джонса?**"
   ]
  },
  {
   "cell_type": "code",
   "execution_count": 36,
   "metadata": {},
   "outputs": [],
   "source": [
    "index = pd.read_csv('data/djia_index.csv', index_col=0, parse_dates=True)"
   ]
  },
  {
   "cell_type": "code",
   "execution_count": 37,
   "metadata": {},
   "outputs": [
    {
     "data": {
      "text/html": [
       "<div>\n",
       "<style>\n",
       "    .dataframe thead tr:only-child th {\n",
       "        text-align: right;\n",
       "    }\n",
       "\n",
       "    .dataframe thead th {\n",
       "        text-align: left;\n",
       "    }\n",
       "\n",
       "    .dataframe tbody tr th {\n",
       "        vertical-align: top;\n",
       "    }\n",
       "</style>\n",
       "<table border=\"1\" class=\"dataframe\">\n",
       "  <thead>\n",
       "    <tr style=\"text-align: right;\">\n",
       "      <th></th>\n",
       "      <th>^DJI</th>\n",
       "    </tr>\n",
       "    <tr>\n",
       "      <th>date</th>\n",
       "      <th></th>\n",
       "    </tr>\n",
       "  </thead>\n",
       "  <tbody>\n",
       "    <tr>\n",
       "      <th>2013-09-23</th>\n",
       "      <td>15401.379883</td>\n",
       "    </tr>\n",
       "    <tr>\n",
       "      <th>2013-09-24</th>\n",
       "      <td>15334.589844</td>\n",
       "    </tr>\n",
       "    <tr>\n",
       "      <th>2013-09-25</th>\n",
       "      <td>15273.259766</td>\n",
       "    </tr>\n",
       "    <tr>\n",
       "      <th>2013-09-26</th>\n",
       "      <td>15328.299805</td>\n",
       "    </tr>\n",
       "    <tr>\n",
       "      <th>2013-09-27</th>\n",
       "      <td>15258.240234</td>\n",
       "    </tr>\n",
       "  </tbody>\n",
       "</table>\n",
       "</div>"
      ],
      "text/plain": [
       "                    ^DJI\n",
       "date                    \n",
       "2013-09-23  15401.379883\n",
       "2013-09-24  15334.589844\n",
       "2013-09-25  15273.259766\n",
       "2013-09-26  15328.299805\n",
       "2013-09-27  15258.240234"
      ]
     },
     "execution_count": 37,
     "metadata": {},
     "output_type": "execute_result"
    }
   ],
   "source": [
    "index.head()"
   ]
  },
  {
   "cell_type": "code",
   "execution_count": 38,
   "metadata": {},
   "outputs": [
    {
     "name": "stdout",
     "output_type": "stream",
     "text": [
      "<class 'pandas.core.frame.DataFrame'>\n",
      "DatetimeIndex: 374 entries, 2013-09-23 to 2015-03-18\n",
      "Data columns (total 1 columns):\n",
      "^DJI    374 non-null float64\n",
      "dtypes: float64(1)\n",
      "memory usage: 5.8 KB\n"
     ]
    }
   ],
   "source": [
    "index.info()"
   ]
  },
  {
   "cell_type": "code",
   "execution_count": 59,
   "metadata": {},
   "outputs": [
    {
     "data": {
      "text/plain": [
       "0.91000000000000003"
      ]
     },
     "execution_count": 59,
     "metadata": {},
     "output_type": "execute_result"
    }
   ],
   "source": [
    "pearson = np.corrcoef(np.column_stack([X_transform[:, 0], index.values]), rowvar=False).round(2)[0, 1]\n",
    "pearson"
   ]
  },
  {
   "cell_type": "code",
   "execution_count": 50,
   "metadata": {
    "collapsed": true
   },
   "outputs": [],
   "source": [
    "write_answer('pca_answer2', pearson)"
   ]
  },
  {
   "cell_type": "markdown",
   "metadata": {},
   "source": [
    "**Какая компания имеет наибольший вес в первой компоненте? Укажите ее название с большой буквы.**"
   ]
  },
  {
   "cell_type": "code",
   "execution_count": 53,
   "metadata": {},
   "outputs": [
    {
     "data": {
      "text/plain": [
       "(10, 30)"
      ]
     },
     "execution_count": 53,
     "metadata": {},
     "output_type": "execute_result"
    }
   ],
   "source": [
    "# Поле components_ содержит информацию о том, какой вклад вносят признаки в компоненты\n",
    "pca.components_.shape"
   ]
  },
  {
   "cell_type": "code",
   "execution_count": 57,
   "metadata": {},
   "outputs": [
    {
     "data": {
      "text/plain": [
       "'V'"
      ]
     },
     "execution_count": 57,
     "metadata": {},
     "output_type": "execute_result"
    }
   ],
   "source": [
    "maxweight_name_1 = prices.columns[np.argmax(pca.components_, axis=1)[0]]\n",
    "maxweight_name_1"
   ]
  },
  {
   "cell_type": "code",
   "execution_count": 58,
   "metadata": {
    "collapsed": true
   },
   "outputs": [],
   "source": [
    "write_answer('pca_answer3', maxweight_name_1)"
   ]
  }
 ],
 "metadata": {
  "kernelspec": {
   "display_name": "Python 3",
   "language": "python",
   "name": "python3"
  },
  "language_info": {
   "codemirror_mode": {
    "name": "ipython",
    "version": 3
   },
   "file_extension": ".py",
   "mimetype": "text/x-python",
   "name": "python",
   "nbconvert_exporter": "python",
   "pygments_lexer": "ipython3",
   "version": "3.6.3"
  }
 },
 "nbformat": 4,
 "nbformat_minor": 2
}
