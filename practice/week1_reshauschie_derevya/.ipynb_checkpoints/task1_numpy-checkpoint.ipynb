{
 "cells": [
  {
   "cell_type": "markdown",
   "metadata": {},
   "source": [
    "# Работа с векторами и матрицами NumPy"
   ]
  },
  {
   "cell_type": "code",
   "execution_count": 1,
   "metadata": {
    "collapsed": true
   },
   "outputs": [],
   "source": [
    "import numpy as np"
   ]
  },
  {
   "cell_type": "markdown",
   "metadata": {},
   "source": [
    "## Генерация случайной матрицы"
   ]
  },
  {
   "cell_type": "markdown",
   "metadata": {},
   "source": [
    "Сгенерируйте матрицу, состоящую из 1000 строк и 50 столбцов, элементы которой являются случайными из нормального распределения N(1,100).\n",
    "\n",
    "Функция для генерации чисел из нормального распределения: np.random.normal https://docs.scipy.org/doc/numpy/reference/generated/numpy.random.normal.html\n",
    "\n",
    "Параметры:\n",
    "\n",
    "- loc: среднее нормального распределения (в нашем случае 1)\n",
    "- scale: стандартное отклонение нормального распределения (в нашем случае 10)\n",
    "- size: размер матрицы (в нашем случае (1000, 50))"
   ]
  },
  {
   "cell_type": "code",
   "execution_count": 5,
   "metadata": {},
   "outputs": [
    {
     "data": {
      "text/plain": [
       "array([[-12.75142495,   2.71225498, -19.98571641, ..., -11.98176591,\n",
       "         24.63235472,   5.44963592],\n",
       "       [  3.76621691,  -3.57065124,   7.4117217 , ..., -17.17061276,\n",
       "        -22.03585167,  14.91097899],\n",
       "       [ -0.70002789,  -1.63061626, -10.913137  , ...,  16.25002953,\n",
       "          8.41539573,  12.59185609],\n",
       "       ..., \n",
       "       [  8.69899923,   5.07620332,   7.10304239, ...,   3.01845038,\n",
       "          0.30766349,  -8.41818507],\n",
       "       [ 25.06262156,  -9.0944297 ,  -0.27021336, ...,   5.02880231,\n",
       "          3.08147632,   1.55883469],\n",
       "       [ -4.16835369, -14.18342124,   0.95234981, ...,  -8.77740336,\n",
       "         -6.51893236,  10.54992849]])"
      ]
     },
     "execution_count": 5,
     "metadata": {},
     "output_type": "execute_result"
    }
   ],
   "source": [
    "X = np.random.normal(loc=1, scale=10, size=(1000, 50))\n",
    "X"
   ]
  },
  {
   "cell_type": "markdown",
   "metadata": {},
   "source": [
    "## Нормировка матрицы\n",
    "\n",
    "Произведите нормировку матрицы из предыдущего задания: вычтите из каждого столбца его среднее значение, а затем поделите на его стандартное отклонение.\n",
    "\n",
    "Функция для вычисления среднего: np.mean\n",
    "\n",
    "Функция для вычисления стандартного отклонения: np.std\n",
    "\n",
    "Первый параметр — матрица, для которой производятся вычисления. Также полезным будет параметр axis, который указывает, по какому измерению вычисляются среднее и стандартное отклонение (если axis=0, то по столбцам, если axis=1, то по строкам; если его не указывать, то данные величины будут вычислены по всей матрице)."
   ]
  },
  {
   "cell_type": "code",
   "execution_count": 4,
   "metadata": {},
   "outputs": [
    {
     "data": {
      "text/plain": [
       "array([[ 1.00455824,  0.09349801, -0.48569712, ...,  1.82323506,\n",
       "        -1.01653615,  1.59668159],\n",
       "       [ 0.74846128, -1.09441146,  0.61189398, ..., -0.77754861,\n",
       "         1.01289917, -0.26939777],\n",
       "       [ 0.34947546, -1.22310426,  0.62459635, ..., -0.58261938,\n",
       "        -0.83433932, -0.03413807],\n",
       "       ..., \n",
       "       [ 2.05974291, -0.44771753,  1.50876732, ...,  0.59065452,\n",
       "        -1.52384042, -1.23240358],\n",
       "       [-1.19486775, -0.28709781,  0.8996223 , ..., -1.33589585,\n",
       "         0.74909411,  1.43278407],\n",
       "       [-0.63136565, -0.55531314,  0.24035107, ..., -1.46926081,\n",
       "         1.05417545,  1.05270166]])"
      ]
     },
     "execution_count": 4,
     "metadata": {},
     "output_type": "execute_result"
    }
   ],
   "source": [
    "X_norm = (X - np.mean(X, axis=0)) / np.std(X, axis=0)\n",
    "X_norm"
   ]
  },
  {
   "cell_type": "markdown",
   "metadata": {},
   "source": [
    "## Операции над элементами матрицы\n",
    "\n",
    "Выведите для заданной матрицы номера строк, сумма элементов в которых превосходит 10.\n",
    "\n",
    "Функция для подсчета суммы: np.sum\n",
    "\n",
    "Аргументы аналогичны функциям np.mean и np.std.\n",
    "\n",
    "К матрицам можно применять логические операции, которые будут применяться поэлементно. Соответственно, результатом такой операции будет матрица такого же размера, в ячейках которой будет записано либо True, либо False. Индексы элементов со значением True можно получить с помощью функции np.nonzero."
   ]
  },
  {
   "cell_type": "code",
   "execution_count": 6,
   "metadata": {
    "collapsed": true
   },
   "outputs": [],
   "source": [
    "Z = np.array([[4, 5, 0], \n",
    "             [1, 9, 3],              \n",
    "             [5, 1, 1],\n",
    "             [3, 3, 3], \n",
    "             [9, 9, 9], \n",
    "             [4, 7, 1]])"
   ]
  },
  {
   "cell_type": "code",
   "execution_count": 7,
   "metadata": {},
   "outputs": [
    {
     "data": {
      "text/plain": [
       "array([ 9, 13,  7,  9, 27, 12])"
      ]
     },
     "execution_count": 7,
     "metadata": {},
     "output_type": "execute_result"
    }
   ],
   "source": [
    "sum_str = np.sum(Z, axis=1)\n",
    "sum_str"
   ]
  },
  {
   "cell_type": "code",
   "execution_count": 8,
   "metadata": {},
   "outputs": [
    {
     "data": {
      "text/plain": [
       "array([False,  True, False, False,  True,  True], dtype=bool)"
      ]
     },
     "execution_count": 8,
     "metadata": {},
     "output_type": "execute_result"
    }
   ],
   "source": [
    "num_str = sum_str > 10\n",
    "num_str"
   ]
  },
  {
   "cell_type": "code",
   "execution_count": 9,
   "metadata": {},
   "outputs": [
    {
     "data": {
      "text/plain": [
       "(array([1, 4, 5], dtype=int64),)"
      ]
     },
     "execution_count": 9,
     "metadata": {},
     "output_type": "execute_result"
    }
   ],
   "source": [
    "np.nonzero(num_str)"
   ]
  },
  {
   "cell_type": "markdown",
   "metadata": {},
   "source": [
    "## Объединение матриц\n",
    "\n",
    "Сгенерируйте две единичные матрицы (т.е. с единицами на диагонали) размера 3x3. Соедините две матрицы в одну размера 6x3.\n",
    "\n",
    "Функция для генерации единичной матрицы: np.eye\n",
    "\n",
    "Аргумент: число строк (или, что эквивалентно, столбцов).\n",
    "\n",
    "Функция для вертикальной стыковки матриц: np.vstack((A, B))"
   ]
  },
  {
   "cell_type": "code",
   "execution_count": 10,
   "metadata": {},
   "outputs": [
    {
     "data": {
      "text/plain": [
       "array([[ 1.,  0.,  0.],\n",
       "       [ 0.,  1.,  0.],\n",
       "       [ 0.,  0.,  1.],\n",
       "       [ 1.,  0.,  0.],\n",
       "       [ 0.,  1.,  0.],\n",
       "       [ 0.,  0.,  1.]])"
      ]
     },
     "execution_count": 10,
     "metadata": {},
     "output_type": "execute_result"
    }
   ],
   "source": [
    "np.vstack((np.eye(3), np.eye(3)))"
   ]
  }
 ],
 "metadata": {
  "kernelspec": {
   "display_name": "Python 3",
   "language": "python",
   "name": "python3"
  },
  "language_info": {
   "codemirror_mode": {
    "name": "ipython",
    "version": 3
   },
   "file_extension": ".py",
   "mimetype": "text/x-python",
   "name": "python",
   "nbconvert_exporter": "python",
   "pygments_lexer": "ipython3",
   "version": "3.6.3"
  }
 },
 "nbformat": 4,
 "nbformat_minor": 2
}
